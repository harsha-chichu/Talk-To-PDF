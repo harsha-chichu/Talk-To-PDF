{
 "cells": [
  {
   "cell_type": "code",
   "execution_count": null,
   "id": "53770283",
   "metadata": {},
   "outputs": [],
   "source": [
    "import tempfile\n",
    "from langchain.document_loaders import PyPDFLoader"
   ]
  },
  {
   "cell_type": "code",
   "execution_count": 6,
   "id": "1b052df7",
   "metadata": {},
   "outputs": [],
   "source": [
    "def load_uploaded_pdfs(uploaded_files):\n",
    "    documents = []\n",
    "    for uploaded_file in uploaded_files:\n",
    "        # Save to a temporary file\n",
    "        with tempfile.NamedTemporaryFile(delete=False, suffix=\".pdf\") as tmp:\n",
    "            tmp.write(uploaded_file.read())\n",
    "            tmp_path = tmp.name\n",
    "\n",
    "        loader = PyPDFLoader(tmp_path)\n",
    "        documents.extend(loader.load())\n",
    "    return documents"
   ]
  },
  {
   "cell_type": "code",
   "execution_count": null,
   "id": "50fe4684",
   "metadata": {},
   "outputs": [],
   "source": [
    "extracetd_data = load_pdf_files(\"data\")"
   ]
  }
 ],
 "metadata": {
  "kernelspec": {
   "display_name": "venv (3.10.9)",
   "language": "python",
   "name": "python3"
  },
  "language_info": {
   "codemirror_mode": {
    "name": "ipython",
    "version": 3
   },
   "file_extension": ".py",
   "mimetype": "text/x-python",
   "name": "python",
   "nbconvert_exporter": "python",
   "pygments_lexer": "ipython3",
   "version": "3.10.9"
  }
 },
 "nbformat": 4,
 "nbformat_minor": 5
}
